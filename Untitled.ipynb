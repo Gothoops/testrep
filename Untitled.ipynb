{
 "cells": [
  {
   "cell_type": "markdown",
   "id": "15605aa6-7466-40ff-9b29-8e83678b24eb",
   "metadata": {},
   "source": [
    "# Data Science Tools and Ecosystem"
   ]
  },
  {
   "cell_type": "markdown",
   "id": "af3a7aac-1ce1-4117-8b61-4bf72fa3fce4",
   "metadata": {},
   "source": [
    "## In this notebook, Data Science Tools and Ecosystem are summarized, its part of the IBM Data Science Professional Certificate. and we're reviewing each other notebooks"
   ]
  },
  {
   "cell_type": "markdown",
   "id": "15bef825-4631-420f-8e02-22df3f95c917",
   "metadata": {},
   "source": [
    "### Objetives:\n",
    "    1. Review some of the basics of the Jupyter Notebook enviroment \n",
    "    2. See in action the use of the Python Language\n",
    "    3. List some popular stuff about Data Science: Tools, Libraries, etc.\n"
   ]
  },
  {
   "cell_type": "markdown",
   "id": "63594db4-ee60-45e0-ad1e-11780a190148",
   "metadata": {},
   "source": [
    "#### Some of the most popular languages that Data Scientist use are:"
   ]
  },
  {
   "cell_type": "code",
   "execution_count": 14,
   "id": "c4a754db-07f2-4214-9c38-685b6f482748",
   "metadata": {},
   "outputs": [
    {
     "name": "stdout",
     "output_type": "stream",
     "text": [
      "['Julia', 'Python', 'R', 'Sql']\n"
     ]
    }
   ],
   "source": [
    "x = ('Python', 'R', 'Sql', 'Julia')\n",
    "x = sorted (x)\n",
    "print (x)"
   ]
  },
  {
   "cell_type": "markdown",
   "id": "15a51f16-d4c5-46b0-91ca-3587cf4132c4",
   "metadata": {},
   "source": [
    "#### Some of the most commonly used libraries used by Data Scientist include:"
   ]
  },
  {
   "cell_type": "code",
   "execution_count": 16,
   "id": "d1ab3187-2153-4d8c-9d17-ed5ca8dcadca",
   "metadata": {},
   "outputs": [
    {
     "name": "stdout",
     "output_type": "stream",
     "text": [
      "['PyCaret', 'Pytorch', 'Tensorflow', 'keras', 'matplotlib', 'numpy', 'scikit learn']\n"
     ]
    }
   ],
   "source": [
    "b= ('matplotlib', 'numpy', 'keras', 'scikit learn', 'Pytorch', 'PyCaret', 'Tensorflow')\n",
    "b= sorted (b)\n",
    "print (b)"
   ]
  },
  {
   "cell_type": "markdown",
   "id": "d83e146f-d02b-4f46-9465-11a6c0f0b409",
   "metadata": {},
   "source": [
    "#### Some of the most commonly used Tools for Data Science are:"
   ]
  },
  {
   "cell_type": "code",
   "execution_count": 19,
   "id": "262e2e68-0127-496a-ac6f-50b4f9e6645f",
   "metadata": {},
   "outputs": [
    {
     "name": "stdout",
     "output_type": "stream",
     "text": [
      "['Apache Spark', 'BigML', 'Excel', 'MatLab', 'SAS', 'Tableau', 'ggplot2']\n"
     ]
    }
   ],
   "source": [
    "c= ('SAS', 'Apache Spark', 'BigML', 'MatLab', 'Excel', 'ggplot2', 'Tableau')\n",
    "c= sorted (c)\n",
    "print (c)"
   ]
  },
  {
   "cell_type": "markdown",
   "id": "9ef84987-4c0b-442a-8f1c-99571d7622bc",
   "metadata": {},
   "source": [
    "#### Below are a fex examples of evaluating arithmetic expressions in Python"
   ]
  },
  {
   "cell_type": "code",
   "execution_count": 20,
   "id": "94f8577e-2fdd-460c-bfa1-304d1eecdfd8",
   "metadata": {},
   "outputs": [
    {
     "data": {
      "text/plain": [
       "17"
      ]
     },
     "execution_count": 20,
     "metadata": {},
     "output_type": "execute_result"
    }
   ],
   "source": [
    "#This is a simple artichmetic expression to multiply then add integers\n",
    "(3*4)+5"
   ]
  },
  {
   "cell_type": "code",
   "execution_count": 25,
   "id": "7d559c8a-bf00-4e69-844d-2de0bb550215",
   "metadata": {},
   "outputs": [
    {
     "name": "stdout",
     "output_type": "stream",
     "text": [
      "3.3333333333333335\n"
     ]
    }
   ],
   "source": [
    "#This will convert 200 minutes to hours by diving by 60.\n",
    "n = 200/60\n",
    "print (n)"
   ]
  },
  {
   "cell_type": "markdown",
   "id": "a70edc64-2caf-47fe-8a9f-81bc19d88d0f",
   "metadata": {},
   "source": [
    "## Author \n",
    "Benjamin B. Javalquinto"
   ]
  }
 ],
 "metadata": {
  "kernelspec": {
   "display_name": "Python 3 (ipykernel)",
   "language": "python",
   "name": "python3"
  },
  "language_info": {
   "codemirror_mode": {
    "name": "ipython",
    "version": 3
   },
   "file_extension": ".py",
   "mimetype": "text/x-python",
   "name": "python",
   "nbconvert_exporter": "python",
   "pygments_lexer": "ipython3",
   "version": "3.9.12"
  }
 },
 "nbformat": 4,
 "nbformat_minor": 5
}
